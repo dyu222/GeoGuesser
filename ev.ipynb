{
 "cells": [
  {
   "cell_type": "code",
   "execution_count": 55,
   "metadata": {},
   "outputs": [],
   "source": [
    "import requests\n",
    "from PIL import Image\n",
    "import io\n",
    "# import tensorflow as tf\n",
    "import torch\n",
    "import datetime\n",
    "from pathlib import Path\n",
    "from datasets import DatasetDict\n",
    "from datasets import Dataset\n",
    "from datasets import load_from_disk\n",
    "import time\n",
    "from tqdm import tqdm"
   ]
  },
  {
   "cell_type": "code",
   "execution_count": 1,
   "metadata": {},
   "outputs": [
    {
     "name": "stderr",
     "output_type": "stream",
     "text": [
      "/usr/local/lib/python3.10/site-packages/tqdm/auto.py:21: TqdmWarning: IProgress not found. Please update jupyter and ipywidgets. See https://ipywidgets.readthedocs.io/en/stable/user_install.html\n",
      "  from .autonotebook import tqdm as notebook_tqdm\n"
     ]
    }
   ],
   "source": [
    "from datasets import load_dataset\n",
    "\n",
    "# this line is just for quick testin\n",
    "dataset = load_dataset(\"stochastic/random_streetview_images_pano_v0.0.2\", split=\"train[:200]\")\n",
    "# dataset = load_dataset(\"stochastic/random_streetview_images_pano_v0.0.2\", split=\"train\")"
   ]
  },
  {
   "cell_type": "code",
   "execution_count": 5,
   "metadata": {},
   "outputs": [
    {
     "name": "stderr",
     "output_type": "stream",
     "text": [
      "Filter: 100%|██████████| 200/200 [00:07<00:00, 27.34 examples/s]\n"
     ]
    }
   ],
   "source": [
    "# filter all the countries with not many images out of the dataset\n",
    "passes = ['HK', 'HU', 'AU', 'SK', 'FR', 'FI', 'ZA', 'LT', 'PE', 'US']  # 10 most common\n",
    "\n",
    "# Function to apply the filter\n",
    "def filter_countries(example):\n",
    "    return example['country_iso_alpha2'] in passes\n",
    "\n",
    "# Apply the filter to the dataset\n",
    "dataset = dataset.filter(filter_countries)"
   ]
  },
  {
   "cell_type": "code",
   "execution_count": 8,
   "metadata": {},
   "outputs": [
    {
     "data": {
      "text/plain": [
       "Dataset({\n",
       "    features: ['image', 'country_iso_alpha2', 'latitude', 'longitude', 'address'],\n",
       "    num_rows: 106\n",
       "})"
      ]
     },
     "execution_count": 8,
     "metadata": {},
     "output_type": "execute_result"
    }
   ],
   "source": [
    "# test out the filtering\n",
    "dataset"
   ]
  },
  {
   "cell_type": "code",
   "execution_count": 57,
   "metadata": {},
   "outputs": [],
   "source": [
    "# preprocessing - this took 6min 48 seconds on my computer... jk 12 min second time\n",
    "from torchvision.transforms import v2\n",
    "import torchvision.transforms as transforms\n",
    "\n",
    "# data preprocessing\n",
    "image_transforms = v2.Compose([\n",
    "    v2.CenterCrop((561, 1010)),  # crops the middle image from the panorama\n",
    "    v2.Resize((224, 224)),  # resizing the image to 224x224 for easier processing\n",
    "    transforms.ToTensor()  # converting the image to a tensor\n",
    "])\n",
    "\n",
    "def transform(batch):\n",
    "    # Transform each image in the batch and ensure it has 3 channels\n",
    "    batch[\"image\"] = [image_transforms(image.convert(\"RGB\")) for image in batch[\"image\"]]\n",
    "    del batch[\"latitude\"]\n",
    "    del batch[\"longitude\"]\n",
    "    del batch[\"address\"]\n",
    "    return batch\n",
    "\n",
    "# Apply the transformations to the dataset\n",
    "dataset = dataset.map(transform, batched=True, batch_size=8)\n"
   ]
  },
  {
   "cell_type": "code",
   "execution_count": 58,
   "metadata": {},
   "outputs": [],
   "source": [
    "# check what the name of the country thing is\n",
    "# print(dataset[0])"
   ]
  },
  {
   "cell_type": "markdown",
   "metadata": {},
   "source": []
  },
  {
   "cell_type": "code",
   "execution_count": 59,
   "metadata": {},
   "outputs": [
    {
     "ename": "AttributeError",
     "evalue": "'DatasetDict' object has no attribute 'train_test_split'",
     "output_type": "error",
     "traceback": [
      "\u001b[0;31m---------------------------------------------------------------------------\u001b[0m",
      "\u001b[0;31mAttributeError\u001b[0m                            Traceback (most recent call last)",
      "Cell \u001b[0;32mIn[59], line 2\u001b[0m\n\u001b[1;32m      1\u001b[0m \u001b[38;5;66;03m# Make split and save\u001b[39;00m\n\u001b[0;32m----> 2\u001b[0m train_testvalid \u001b[38;5;241m=\u001b[39m \u001b[43mdataset\u001b[49m\u001b[38;5;241;43m.\u001b[39;49m\u001b[43mtrain_test_split\u001b[49m(test_size\u001b[38;5;241m=\u001b[39m\u001b[38;5;241m0.4\u001b[39m)\n\u001b[1;32m      3\u001b[0m test_valid \u001b[38;5;241m=\u001b[39m train_testvalid[\u001b[38;5;124m'\u001b[39m\u001b[38;5;124mtest\u001b[39m\u001b[38;5;124m'\u001b[39m]\u001b[38;5;241m.\u001b[39mtrain_test_split(test_size\u001b[38;5;241m=\u001b[39m\u001b[38;5;241m0.5\u001b[39m)\n\u001b[1;32m      5\u001b[0m datasets \u001b[38;5;241m=\u001b[39m DatasetDict({\n\u001b[1;32m      6\u001b[0m     \u001b[38;5;124m'\u001b[39m\u001b[38;5;124mtrain\u001b[39m\u001b[38;5;124m'\u001b[39m: train_testvalid[\u001b[38;5;124m'\u001b[39m\u001b[38;5;124mtrain\u001b[39m\u001b[38;5;124m'\u001b[39m],\n\u001b[1;32m      7\u001b[0m     \u001b[38;5;124m'\u001b[39m\u001b[38;5;124mtest\u001b[39m\u001b[38;5;124m'\u001b[39m: test_valid[\u001b[38;5;124m'\u001b[39m\u001b[38;5;124mtest\u001b[39m\u001b[38;5;124m'\u001b[39m],\n\u001b[1;32m      8\u001b[0m     \u001b[38;5;124m'\u001b[39m\u001b[38;5;124mvalid\u001b[39m\u001b[38;5;124m'\u001b[39m: test_valid[\u001b[38;5;124m'\u001b[39m\u001b[38;5;124mtrain\u001b[39m\u001b[38;5;124m'\u001b[39m]\n\u001b[1;32m      9\u001b[0m })\n",
      "\u001b[0;31mAttributeError\u001b[0m: 'DatasetDict' object has no attribute 'train_test_split'"
     ]
    }
   ],
   "source": [
    "# Make split and save\n",
    "train_testvalid = dataset.train_test_split(test_size=0.4)\n",
    "test_valid = train_testvalid['test'].train_test_split(test_size=0.5)\n",
    "\n",
    "datasets = DatasetDict({\n",
    "    'train': train_testvalid['train'],\n",
    "    'test': test_valid['test'],\n",
    "    'valid': test_valid['train']\n",
    "})\n",
    "datasets.save_to_disk(\"./data\")"
   ]
  },
  {
   "cell_type": "code",
   "execution_count": 10,
   "metadata": {},
   "outputs": [],
   "source": [
    "# country_codes = [\"ZA\",\"KR\",\"AR\",\"BW\",\"GR\",\"SK\",\"HK\",\"NL\",\"PE\",\"AU\",\"KH\",\"LT\",\"NZ\",\"RO\",\"MY\",\"SG\",\"AE\",\"FR\",\"ES\",\"IT\",\"IE\",\"LV\",\"IL\",\"JP\",\"CH\",\"AD\",\"CA\",\"RU\",\"NO\",\"SE\",\"PL\",\"TW\",\"CO\",\"BD\",\"HU\",\"CL\",\"IS\",\"BG\",\"GB\",\"US\",\"SI\",\"BT\",\"FI\",\"BE\",\"EE\",\"SZ\",\"UA\",\"CZ\",\"BR\",\"DK\",\"ID\",\"MX\",\"DE\",\"HR\",\"PT\",\"TH\"]\n",
    "country_codes = ['HK', 'HU', 'AU', 'SK', 'FR', 'FI', 'ZA', 'LT', 'PE', 'US']\n",
    "country_dict = {}\n",
    "# TODO: these might need to be tensor arrays but thats easy enough to change if needed\n",
    "for i in range(len(country_codes)):\n",
    "    country_dict[country_codes[i]] = [0.]*len(country_codes)\n",
    "    country_dict[country_codes[i]][i] = 1.\n",
    "# print(country_dict)\n",
    "country_dict_not_one_hot = {}\n",
    "for i in range(len(country_codes)):\n",
    "    country_dict_not_one_hot[country_codes[i]] = i"
   ]
  },
  {
   "cell_type": "code",
   "execution_count": null,
   "metadata": {},
   "outputs": [],
   "source": [
    "# referenced: https://blog.paperspace.com/convolutional-autoencoder/\n",
    "# autoencoder classes (CREDIT: LARGELY TAKEN FROM 6_AUTOENCODER NOTEBOOK, but encoder and decoder architectures modified to be convolutional)\n",
    "# should only have Encoder that has a latent dimension of 50 - corresponding to country weights\n",
    "import torch.nn as nn\n",
    "import torch.nn.functional as F\n",
    "\n",
    "class MLPEncoder(torch.nn.Module):\n",
    "\n",
    "    def __init__(self,\n",
    "                 number_of_hidden_layers: int,\n",
    "                 latent_size: int,\n",
    "                 hidden_size: int,\n",
    "                 input_size: int,\n",
    "                 activation: torch.nn.Module):\n",
    "\n",
    "        super().__init__()\n",
    "\n",
    "        self.latent_size = latent_size\n",
    "        assert number_of_hidden_layers >= 0, \"Decoder number_of_hidden_layers must be at least 0\"\n",
    "\n",
    "        # Convolutional layers\n",
    "        self.conv1 = nn.Conv2d(in_channels=3, out_channels=16, kernel_size=3, stride=2, padding=1)\n",
    "        self.conv2 = nn.Conv2d(in_channels=16, out_channels=32, kernel_size=3, stride=2, padding=1)\n",
    "        self.conv3 = nn.Conv2d(in_channels=32, out_channels=64, kernel_size=3, stride=2, padding=1)\n",
    "        self.conv4 = nn.Conv2d(in_channels=64, out_channels=128, kernel_size=3, stride=2, padding=1)\n",
    "\n",
    "        self.feature_map_size = 128 * 14 * 14\n",
    "        \n",
    "        # Fully connected layer to produce the latent representation of size 55\n",
    "        self.fc = nn.Linear(self.feature_map_size, latent_size)\n",
    "\n",
    "    def forward(self, x):\n",
    "        x = F.relu(self.conv1(x))\n",
    "        x = F.relu(self.conv2(x))\n",
    "        x = F.relu(self.conv3(x))\n",
    "        x = F.relu(self.conv4(x))\n",
    "        x = x.view(-1, self.feature_map_size)  # Flatten the output\n",
    "        x = self.fc(x)\n",
    "        return x\n"
   ]
  },
  {
   "cell_type": "code",
   "execution_count": null,
   "metadata": {},
   "outputs": [],
   "source": [
    "# define our training parameters and model\n",
    "hidden_layers = 4\n",
    "hidden_size = 30\n",
    "latent_size = 56\n",
    "input_size = 224\n",
    "lr = 0.005\n",
    "lamb = 1\n",
    "\n",
    "# fix random seed\n",
    "torch.manual_seed(0)\n",
    "\n",
    "# select device\n",
    "device = torch.device(\"cuda\" if torch.cuda.is_available() else \"cpu\")\n",
    "model = MLPEncoder( number_of_hidden_layers=hidden_layers,\n",
    "                 latent_size=latent_size,\n",
    "                 hidden_size=hidden_size,\n",
    "                 input_size=input_size,\n",
    "                 activation=torch.nn.ReLU()).to(device)\n",
    "\n",
    "# use an optimizer to handle parameter updates\n",
    "opt = torch.optim.Adam(model.parameters(), lr=lr, weight_decay=1e-5)\n",
    "\n",
    "# save all log data to a local directory\n",
    "run_dir = \"logs\"\n",
    "\n",
    "# to clear out TensorBoard and start totally fresh, we'll need to\n",
    "# remove old logs by deleting them from the directory\n",
    "!rm -rf ./logs/\n",
    "\n",
    "# timestamp the logs for each run so we can sort through them\n",
    "run_time = datetime.datetime.now().strftime(\"%I%M%p on %B %d, %Y\")\n",
    "\n",
    "# initialize a SummaryWriter object to handle all logging actions\n",
    "from torch.utils.tensorboard import SummaryWriter\n",
    "logger = SummaryWriter(log_dir=Path(run_dir) / run_time, flush_secs=20)"
   ]
  },
  {
   "cell_type": "code",
   "execution_count": null,
   "metadata": {},
   "outputs": [
    {
     "data": {
      "text/plain": [
       "torch.Size([1, 56])"
      ]
     },
     "execution_count": 36,
     "metadata": {},
     "output_type": "execute_result"
    }
   ],
   "source": [
    "model(data['train'][0]['image'].to(device)).shape"
   ]
  },
  {
   "cell_type": "code",
   "execution_count": null,
   "metadata": {},
   "outputs": [],
   "source": [
    "# load data from disk\n",
    "data = load_from_disk(\"./data\")\n",
    "data = data.with_format(\"torch\")"
   ]
  },
  {
   "cell_type": "code",
   "execution_count": null,
   "metadata": {},
   "outputs": [
    {
     "name": "stderr",
     "output_type": "stream",
     "text": [
      "/var/folders/vc/7kh7f0_n749bhl6c8b17t3q40000gn/T/ipykernel_14420/3299156962.py:5: UserWarning: To copy construct from a tensor, it is recommended to use sourceTensor.clone().detach() or sourceTensor.clone().detach().requires_grad_(True), rather than torch.tensor(sourceTensor).\n",
      "  torch.tensor(data['train'][0]['image']).shape\n"
     ]
    },
    {
     "data": {
      "text/plain": [
       "torch.Size([3, 224, 224])"
      ]
     },
     "execution_count": 38,
     "metadata": {},
     "output_type": "execute_result"
    }
   ],
   "source": [
    "# test the datatype of the dataset - the datasets['train']['image'] should be a tensor\n",
    "# type(datasets['train'][0]['image'])\n",
    "# datasets['train'][0]['image']\n",
    "\n",
    "torch.tensor(data['train'][0]['image']).shape\n",
    "# print(len(datasets['train'][0]['image'][0]))\n",
    "# print(len(datasets['train'][0]['image'][0][0]))\n"
   ]
  },
  {
   "cell_type": "code",
   "execution_count": null,
   "metadata": {},
   "outputs": [
    {
     "name": "stderr",
     "output_type": "stream",
     "text": [
      "/var/folders/vc/7kh7f0_n749bhl6c8b17t3q40000gn/T/ipykernel_14420/1485996735.py:38: UserWarning: To copy construct from a tensor, it is recommended to use sourceTensor.clone().detach() or sourceTensor.clone().detach().requires_grad_(True), rather than torch.tensor(sourceTensor).\n",
      "  x = torch.tensor(x)\n",
      "/var/folders/vc/7kh7f0_n749bhl6c8b17t3q40000gn/T/ipykernel_14420/1485996735.py:105: UserWarning: To copy construct from a tensor, it is recommended to use sourceTensor.clone().detach() or sourceTensor.clone().detach().requires_grad_(True), rather than torch.tensor(sourceTensor).\n",
      "  x_valid = torch.tensor(valid_data['image']) #.float()\n"
     ]
    },
    {
     "name": "stdout",
     "output_type": "stream",
     "text": [
      "Epoch:     1\tMSE Loss: 4.0282\t in   0.1min\n",
      "\n",
      "Epoch:     2\tMSE Loss: 2.7502\t in   0.1min\n",
      "\n",
      "Epoch:     3\tMSE Loss: 2.8965\t in   0.1min\n",
      "\n",
      "Epoch:     4\tMSE Loss: 2.4324\t in   0.2min\n",
      "\n",
      "Epoch:     5\tMSE Loss: 2.7333\t in   0.2min\n",
      "\n",
      "Epoch:     6\tMSE Loss: 1.5679\t in   0.2min\n",
      "\n",
      "Epoch:     7\tMSE Loss: 2.9448\t in   0.3min\n",
      "\n",
      "Epoch:     8\tMSE Loss: 2.5377\t in   0.3min\n",
      "\n",
      "Epoch:     9\tMSE Loss: 1.9519\t in   0.4min\n",
      "\n",
      "Epoch:    10\tMSE Loss: 1.3893\t in   0.4min\n",
      "\n",
      "Epoch:    11\tMSE Loss: 0.8914\t in   0.4min\n",
      "\n",
      "Epoch:    12\tMSE Loss: 0.6451\t in   0.5min\n",
      "\n",
      "Epoch:    13\tMSE Loss: 0.5358\t in   0.5min\n",
      "\n",
      "Epoch:    14\tMSE Loss: 0.2401\t in   0.6min\n",
      "\n",
      "Epoch:    15\tMSE Loss: 0.1978\t in   0.6min\n",
      "\n",
      "Epoch:    16\tMSE Loss: 0.1868\t in   0.7min\n",
      "\n",
      "Epoch:    17\tMSE Loss: 0.0429\t in   0.7min\n",
      "\n",
      "Epoch:    18\tMSE Loss: 0.2077\t in   0.8min\n",
      "\n",
      "Epoch:    19\tMSE Loss: 0.3725\t in   0.8min\n",
      "\n",
      "Epoch:    20\tMSE Loss: 0.2869\t in   0.9min\n",
      "\n",
      "Epoch:    21\tMSE Loss: 0.1368\t in   0.9min\n",
      "\n",
      "Epoch:    22\tMSE Loss: 0.0101\t in   1.0min\n",
      "\n",
      "Epoch:    23\tMSE Loss: 0.0150\t in   1.0min\n",
      "\n",
      "Epoch:    24\tMSE Loss: 0.0219\t in   1.1min\n",
      "\n",
      "Epoch:    25\tMSE Loss: 0.0019\t in   1.1min\n",
      "\n",
      "Epoch:    26\tMSE Loss: 0.0017\t in   1.2min\n",
      "\n",
      "Epoch:    27\tMSE Loss: 0.0018\t in   1.3min\n",
      "\n",
      "Epoch:    28\tMSE Loss: 0.0023\t in   1.3min\n",
      "\n",
      "Epoch:    29\tMSE Loss: 0.0043\t in   1.4min\n",
      "\n",
      "Epoch:    30\tMSE Loss: 0.0018\t in   1.5min\n",
      "\n",
      "Epoch:    31\tMSE Loss: 0.0007\t in   1.5min\n",
      "\n",
      "Epoch:    32\tMSE Loss: 0.0006\t in   1.6min\n",
      "\n",
      "Epoch:    33\tMSE Loss: 0.0002\t in   1.6min\n",
      "\n",
      "Epoch:    34\tMSE Loss: 0.0001\t in   1.7min\n",
      "\n",
      "Epoch:    35\tMSE Loss: 0.0001\t in   1.7min\n",
      "\n",
      "Epoch:    36\tMSE Loss: 0.0001\t in   1.8min\n",
      "\n",
      "Epoch:    37\tMSE Loss: 0.0002\t in   1.8min\n",
      "\n",
      "Epoch:    38\tMSE Loss: 0.0002\t in   1.9min\n",
      "\n",
      "Epoch:    39\tMSE Loss: 0.0002\t in   1.9min\n",
      "\n",
      "Epoch:    40\tMSE Loss: 0.0001\t in   2.0min\n",
      "\n",
      "Epoch:    41\tMSE Loss: 0.0001\t in   2.0min\n",
      "\n",
      "Epoch:    42\tMSE Loss: 0.0001\t in   2.1min\n",
      "\n",
      "Epoch:    43\tMSE Loss: 0.0000\t in   2.1min\n",
      "\n",
      "Epoch:    44\tMSE Loss: 0.0000\t in   2.2min\n",
      "\n",
      "Epoch:    45\tMSE Loss: 0.0000\t in   2.2min\n",
      "\n",
      "Epoch:    46\tMSE Loss: 0.0000\t in   2.3min\n",
      "\n",
      "Epoch:    47\tMSE Loss: 0.0000\t in   2.4min\n",
      "\n",
      "Epoch:    48\tMSE Loss: 0.0000\t in   2.4min\n",
      "\n",
      "Epoch:    49\tMSE Loss: 0.0000\t in   2.5min\n",
      "\n",
      "Epoch:    50\tMSE Loss: 0.0000\t in   2.6min\n",
      "\n",
      "Epoch:    51\tMSE Loss: 0.0000\t in   2.6min\n",
      "\n",
      "Epoch:    52\tMSE Loss: 0.0000\t in   2.6min\n",
      "\n",
      "Epoch:    53\tMSE Loss: 0.0000\t in   2.7min\n",
      "\n",
      "Epoch:    54\tMSE Loss: 0.0000\t in   2.7min\n",
      "\n",
      "Epoch:    55\tMSE Loss: 0.0000\t in   2.8min\n",
      "\n",
      "Epoch:    56\tMSE Loss: 0.0000\t in   2.9min\n",
      "\n",
      "Epoch:    57\tMSE Loss: 0.0000\t in   2.9min\n",
      "\n",
      "Epoch:    58\tMSE Loss: 0.0000\t in   3.0min\n",
      "\n",
      "Epoch:    59\tMSE Loss: 0.0000\t in   3.0min\n",
      "\n",
      "Epoch:    60\tMSE Loss: 0.0000\t in   3.1min\n",
      "\n",
      "Epoch:    61\tMSE Loss: 0.0000\t in   3.1min\n",
      "\n",
      "Epoch:    62\tMSE Loss: 0.0000\t in   3.2min\n",
      "\n",
      "Epoch:    63\tMSE Loss: 0.0000\t in   3.2min\n",
      "\n",
      "Epoch:    64\tMSE Loss: 0.0000\t in   3.3min\n",
      "\n",
      "Epoch:    65\tMSE Loss: 0.0000\t in   3.4min\n",
      "\n",
      "Epoch:    66\tMSE Loss: 0.0000\t in   3.4min\n",
      "\n",
      "Epoch:    67\tMSE Loss: 0.0000\t in   3.5min\n",
      "\n",
      "Epoch:    68\tMSE Loss: 0.0000\t in   3.5min\n",
      "\n",
      "Epoch:    69\tMSE Loss: 0.0000\t in   3.6min\n",
      "\n",
      "Epoch:    70\tMSE Loss: 0.0000\t in   3.7min\n",
      "\n",
      "Epoch:    71\tMSE Loss: 0.0000\t in   3.7min\n",
      "\n",
      "Epoch:    72\tMSE Loss: 0.0000\t in   3.8min\n",
      "\n",
      "Epoch:    73\tMSE Loss: 0.0000\t in   3.8min\n",
      "\n",
      "Epoch:    74\tMSE Loss: 0.0000\t in   3.8min\n",
      "\n",
      "Epoch:    75\tMSE Loss: 0.0000\t in   3.9min\n",
      "\n",
      "Epoch:    76\tMSE Loss: 0.0000\t in   3.9min\n",
      "\n",
      "Epoch:    77\tMSE Loss: 0.0000\t in   4.0min\n",
      "\n",
      "Epoch:    78\tMSE Loss: 0.0000\t in   4.0min\n",
      "\n",
      "Epoch:    79\tMSE Loss: 0.0000\t in   4.1min\n",
      "\n",
      "Epoch:    80\tMSE Loss: 0.0000\t in   4.1min\n",
      "\n",
      "Epoch:    81\tMSE Loss: 0.0000\t in   4.2min\n",
      "\n",
      "Epoch:    82\tMSE Loss: 0.0000\t in   4.2min\n",
      "\n",
      "Epoch:    83\tMSE Loss: 0.0000\t in   4.2min\n",
      "\n",
      "Epoch:    84\tMSE Loss: 0.0000\t in   4.3min\n",
      "\n",
      "Epoch:    85\tMSE Loss: 0.0000\t in   4.3min\n",
      "\n",
      "Epoch:    86\tMSE Loss: 0.0000\t in   4.4min\n",
      "\n",
      "Epoch:    87\tMSE Loss: 0.0000\t in   4.5min\n",
      "\n",
      "Epoch:    88\tMSE Loss: 0.0000\t in   4.5min\n",
      "\n",
      "Epoch:    89\tMSE Loss: 0.0000\t in   4.6min\n",
      "\n",
      "Epoch:    90\tMSE Loss: 0.0000\t in   4.6min\n",
      "\n",
      "Epoch:    91\tMSE Loss: 0.0000\t in   4.7min\n",
      "\n",
      "Epoch:    92\tMSE Loss: 0.0000\t in   4.7min\n",
      "\n",
      "Epoch:    93\tMSE Loss: 0.0000\t in   4.8min\n",
      "\n",
      "Epoch:    94\tMSE Loss: 0.0000\t in   4.8min\n",
      "\n",
      "Epoch:    95\tMSE Loss: 0.0000\t in   4.9min\n",
      "\n",
      "Epoch:    96\tMSE Loss: 0.0000\t in   4.9min\n",
      "\n",
      "Epoch:    97\tMSE Loss: 0.0000\t in   5.0min\n",
      "\n",
      "Epoch:    98\tMSE Loss: 0.0000\t in   5.1min\n",
      "\n",
      "Epoch:    99\tMSE Loss: 0.0000\t in   5.1min\n",
      "\n",
      "Epoch:   100\tMSE Loss: 0.0000\t in   5.2min\n",
      "\n"
     ]
    }
   ],
   "source": [
    "# (***credit***: mostly taken from provided notebook )\n",
    "# training\n",
    "torch.autograd.set_detect_anomaly(False)\n",
    "\n",
    "epochs = 100\n",
    "batch_size = 1000\n",
    "start_time = time.time()\n",
    "loss_history = []\n",
    "valid_history = []\n",
    "acc_history = []\n",
    "valid_acc_history = []\n",
    "report_every = 1\n",
    "# Loss = torch.nn.BCELoss()\n",
    "Loss = torch.nn.CrossEntropyLoss()\n",
    "\n",
    "train_loader = torch.utils.data.DataLoader(data['test'], batch_size=batch_size, shuffle=True)\n",
    "valid_loader = torch.utils.data.DataLoader(data['valid'], batch_size=batch_size, shuffle=True)\n",
    "\n",
    "\n",
    "for epoch in range(epochs):\n",
    "    model.train()\n",
    "    # weight batch losses/scores proportional to batch size\n",
    "    iter_count = 0\n",
    "    valid_iter_count = 0\n",
    "    loss_epoch = 0.\n",
    "    class_accuracy_epoch = 0.\n",
    "    valid_loss_epoch = 0.\n",
    "    valid_accuracy_epoch = 0.\n",
    "    ###\n",
    "    ### IMAGE_DATA_TRAIN is training data, shape is 610 x 3 x 64 x 64\n",
    "    ### \n",
    "    \n",
    "   # print(batched_image_data_train[0][0].shape)\n",
    "    #batched_image_data_train = [batched_image_data_train[0][0].unsqueeze(0)]\n",
    "    for idx, batch in enumerate(train_loader):\n",
    "        \n",
    "        x = batch['image']\n",
    "        x = torch.tensor(x)\n",
    "        # print(x)\n",
    "        # flatten input images and move to device\\\n",
    "        # *****\n",
    "        # x = x / 255\n",
    "        # plot x_real later to see if this is correct\n",
    "        x = x.to(device)\n",
    "        model.zero_grad()\n",
    "        opt.zero_grad()\n",
    "\n",
    "        # train on a batch of inputs\n",
    "        pred_labels = model(x)\n",
    "        # print(pred_labels)\n",
    "\n",
    "        # get the true label\n",
    "        # label = torch.tensor(country_dict[img['country_iso_alpha2']], dtype=torch.float).to(device).unsqueeze(0)\n",
    "        # print(batch['country_iso_alpha2'])\n",
    "        labels = torch.tensor([country_dict_not_one_hot[country] for country in batch['country_iso_alpha2']]).to(device)\n",
    "        # print(labels)\n",
    "        # print(len(country_dict))\n",
    "        # pred labels is 4x56\n",
    "        # print(len(pred_labels))\n",
    "        # print(len(pred_labels[0]))\n",
    "        # label is 1x56\n",
    "\n",
    "        loss = Loss(pred_labels, labels)\n",
    "        loss.backward()\n",
    "        torch.nn.utils.clip_grad_norm_(model.parameters(), max_norm=1.0)\n",
    "        opt.step()\n",
    "\n",
    "        # log loss\n",
    "        loss_epoch += loss.detach().item()    \n",
    "\n",
    "        # classification accuracy\n",
    "        # add 1 to class_accuracy_epoch if the classification is correct, else 0\n",
    "        # find index of max probability from pred_labels\n",
    "        for i in range(len(pred_labels)):\n",
    "            c = torch.argmax(pred_labels[i])\n",
    "            # find index of 1 from label\n",
    "            true_class = torch.argmax(labels[i])\n",
    "            acc = (true_class == c)\n",
    "            class_accuracy_epoch += acc\n",
    "            iter_count += 1\n",
    "        c = torch.argmax(pred_labels)\n",
    "\n",
    "        # print(f\"true: {true_class}\")\n",
    "        # print(f\"pred: {classification.mean()}\")\n",
    "        # print(f\"acc: {acc}\")\n",
    "\n",
    "        # plot loss\n",
    "        class_accuracy_epoch /= iter_count #accuracy as a percent\n",
    "    # print(iter_count)\n",
    "        # logger.add_scalar(\"mse_loss\", loss_epoch, epoch)\n",
    "        loss_history.append(loss_epoch)\n",
    "        acc_history.append(class_accuracy_epoch) \n",
    "    \n",
    "                \n",
    "                # logger.add_scalar(\"mse_loss_valid\", valid_loss_epoch, epoch)\n",
    "        # # plot example generated images\n",
    "        # with torch.no_grad():\n",
    "        #     reconstructed_batch = model(example_batch.reshape(batch_size, -1)).reshape(batch_size, 1, image_size, image_size)\n",
    "        #     logger.add_image(\"reconstructed_images\", make_grid(reconstructed_batch, math.floor(math.sqrt(batch_size)), title=\"Reconstructed Images\"), epoch)\n",
    "            # calculate validation loss\n",
    "\n",
    "        with torch.no_grad():\n",
    "            model.eval()\n",
    "            for idx, valid_data in enumerate(valid_loader):\n",
    "                x_valid = torch.tensor(valid_data['image']) #.float()\n",
    "                # x_valid = x_valid / 255\n",
    "                x_valid = x_valid.to(device)\n",
    "                # print(x_valid)\n",
    "                pred_labels = model(x_valid)\n",
    "\n",
    "                labels_valid = torch.tensor([country_dict_not_one_hot[country] for country in valid_data['country_iso_alpha2']]).to(device)\n",
    "                # print(label_valid)\n",
    "                # print(pred_labels)\n",
    "                valid_loss = Loss(pred_labels, labels_valid)\n",
    "                valid_loss_epoch += valid_loss.detach().item()\n",
    "\n",
    "                \n",
    "                # classification accuracy\n",
    "                # add 1 to class_accuracy_epoch if the classification is correct, else 0\n",
    "                for i in range(len(pred_labels)):\n",
    "                    c = torch.argmax(pred_labels[i])\n",
    "                    # find index of 1 from label\n",
    "                    true_class = torch.argmax(labels_valid[i])\n",
    "                    acc = (true_class == c)\n",
    "                    valid_accuracy_epoch += acc\n",
    "                    valid_iter_count += 1\n",
    "                # print(f\"true: {true_class}\")\n",
    "                # print(f\"pred: {classification.mean()}\")\n",
    "                # print(f\"acc: {valid_acc}\")\n",
    "            valid_loss_epoch \n",
    "            valid_history.append(valid_loss_epoch)\n",
    "            valid_accuracy_epoch /= valid_iter_count\n",
    "            valid_acc_history.append(valid_accuracy_epoch)\n",
    "\n",
    "    if (epoch + 1) % report_every == 0:\n",
    "        mins = (time.time() - start_time) / 60\n",
    "        print(f\"Epoch: {epoch + 1:5d}\\tMSE Loss: {loss_epoch :6.4f}\\t in {mins:5.1f}min\")\n",
    "        print()"
   ]
  },
  {
   "cell_type": "code",
   "execution_count": null,
   "metadata": {},
   "outputs": [
    {
     "data": {
      "image/png": "[encoded data removed]",
      "text/plain": [
       "<Figure size 640x480 with 1 Axes>"
      ]
     },
     "metadata": {},
     "output_type": "display_data"
    }
   ],
   "source": [
    "# plot loss history\n",
    "import matplotlib.pyplot as plt\n",
    "plt.plot(loss_history, label=\"training loss\")\n",
    "plt.plot(valid_history, label=\"validation loss\")\n",
    "plt.legend()\n",
    "plt.show()"
   ]
  },
  {
   "cell_type": "markdown",
   "metadata": {},
   "source": []
  },
  {
   "cell_type": "code",
   "execution_count": null,
   "metadata": {},
   "outputs": [
    {
     "data": {
      "image/png": "[encoded data removed]",
      "text/plain": [
       "<Figure size 640x480 with 1 Axes>"
      ]
     },
     "metadata": {},
     "output_type": "display_data"
    }
   ],
   "source": [
    "# plot accuracy history\n",
    "plt.plot(acc_history, label=\"training accuracy\")\n",
    "plt.plot(valid_acc_history, label=\"validation accuracy\")\n",
    "plt.legend()\n",
    "plt.show()\n"
   ]
  },
  {
   "cell_type": "code",
   "execution_count": null,
   "metadata": {},
   "outputs": [],
   "source": [
    "def predict(i):\n",
    "    prediction = model(data['train'][i]['image'].to(device))\n",
    "    country = torch.argmax(prediction)\n",
    "    return country_codes[country]"
   ]
  },
  {
   "cell_type": "code",
   "execution_count": null,
   "metadata": {},
   "outputs": [
    {
     "data": {
      "text/plain": [
       "Counter({'SK': 31,\n",
       "         'AU': 25,\n",
       "         'HU': 11,\n",
       "         'FI': 8,\n",
       "         'US': 7,\n",
       "         'HK': 6,\n",
       "         'PE': 3,\n",
       "         'ZA': 3,\n",
       "         'CA': 2,\n",
       "         'SG': 1,\n",
       "         'BG': 1,\n",
       "         'LT': 1,\n",
       "         'FR': 1})"
      ]
     },
     "execution_count": 43,
     "metadata": {},
     "output_type": "execute_result"
    }
   ],
   "source": [
    "from collections import Counter\n",
    "Counter([predict(i) for i in range(100)])"
   ]
  },
  {
   "cell_type": "code",
   "execution_count": null,
   "metadata": {},
   "outputs": [
    {
     "name": "stdout",
     "output_type": "stream",
     "text": [
      "[('HK', 5), ('HU', 5), ('AU', 4), ('SK', 4), ('FR', 3), ('FI', 2), ('ZA', 2), ('LT', 2), ('PE', 2), ('US', 2)]\n"
     ]
    }
   ],
   "source": [
    "# find most common countries in dataset\n",
    "from collections import Counter\n",
    "country_counts = Counter(data['test']['country_iso_alpha2'])\n",
    "print(country_counts.most_common(10))\n"
   ]
  },
  {
   "cell_type": "code",
   "execution_count": null,
   "metadata": {},
   "outputs": [],
   "source": []
  }
 ],
 "metadata": {
  "kernelspec": {
   "display_name": "Python 3",
   "language": "python",
   "name": "python3"
  },
  "language_info": {
   "codemirror_mode": {
    "name": "ipython",
    "version": 3
   },
   "file_extension": ".py",
   "mimetype": "text/x-python",
   "name": "python",
   "nbconvert_exporter": "python",
   "pygments_lexer": "ipython3",
   "version": "3.12.2"
  }
 },
 "nbformat": 4,
 "nbformat_minor": 2
}
