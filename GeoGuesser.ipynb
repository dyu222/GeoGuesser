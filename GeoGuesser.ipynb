{
 "cells": [
  {
   "cell_type": "code",
   "execution_count": 1,
   "metadata": {},
   "outputs": [],
   "source": [
    "import requests\n",
    "from PIL import Image\n",
    "import io\n",
    "import tensorflow as tf\n",
    "import torch"
   ]
  },
  {
   "cell_type": "code",
   "execution_count": 2,
   "metadata": {},
   "outputs": [
    {
     "data": {
      "application/vnd.jupyter.widget-view+json": {
       "model_id": "c1c287d7aa4b4b64b784833739095cd7",
       "version_major": 2,
       "version_minor": 0
      },
      "text/plain": [
       "Downloading metadata:   0%|          | 0.00/974 [00:00<?, ?B/s]"
      ]
     },
     "metadata": {},
     "output_type": "display_data"
    },
    {
     "data": {
      "application/vnd.jupyter.widget-view+json": {
       "model_id": "257e89607cb943b094b5fb0389115bbe",
       "version_major": 2,
       "version_minor": 0
      },
      "text/plain": [
       "Downloading readme:   0%|          | 0.00/6.85k [00:00<?, ?B/s]"
      ]
     },
     "metadata": {},
     "output_type": "display_data"
    },
    {
     "name": "stderr",
     "output_type": "stream",
     "text": [
      "Using custom data configuration stochastic--random_streetview_images_pano_v0.0.2-65d25597b51c2d04\n"
     ]
    },
    {
     "name": "stdout",
     "output_type": "stream",
     "text": [
      "Downloading and preparing dataset imagefolder/default (download: 2.62 GiB, generated: 2.63 GiB, post-processed: Unknown size, total: 5.24 GiB) to /Users/derekyu/.cache/huggingface/datasets/stochastic___parquet/stochastic--random_streetview_images_pano_v0.0.2-65d25597b51c2d04/0.0.0/2a3b91fbd88a2c90d1dbbb32b460cf621d31bd5b05b934492fdef7d8d6f236ec...\n"
     ]
    },
    {
     "data": {
      "application/vnd.jupyter.widget-view+json": {
       "model_id": "e744e3abe59d4912ae30e9041fafa596",
       "version_major": 2,
       "version_minor": 0
      },
      "text/plain": [
       "Downloading data files:   0%|          | 0/1 [00:00<?, ?it/s]"
      ]
     },
     "metadata": {},
     "output_type": "display_data"
    },
    {
     "data": {
      "application/vnd.jupyter.widget-view+json": {
       "model_id": "9ba5f30775bb431da16b1d935854947a",
       "version_major": 2,
       "version_minor": 0
      },
      "text/plain": [
       "Downloading data:   0%|          | 0.00/472M [00:00<?, ?B/s]"
      ]
     },
     "metadata": {},
     "output_type": "display_data"
    },
    {
     "data": {
      "application/vnd.jupyter.widget-view+json": {
       "model_id": "536ff1019f184029a7477adbbb3ecd01",
       "version_major": 2,
       "version_minor": 0
      },
      "text/plain": [
       "Downloading data:   0%|          | 0.00/470M [00:00<?, ?B/s]"
      ]
     },
     "metadata": {},
     "output_type": "display_data"
    },
    {
     "data": {
      "application/vnd.jupyter.widget-view+json": {
       "model_id": "1cdf948fb5c84aac9ed9cf6a68fd4f02",
       "version_major": 2,
       "version_minor": 0
      },
      "text/plain": [
       "Downloading data:   0%|          | 0.00/469M [00:00<?, ?B/s]"
      ]
     },
     "metadata": {},
     "output_type": "display_data"
    },
    {
     "data": {
      "application/vnd.jupyter.widget-view+json": {
       "model_id": "29162388d9564658805a24f5ab94005b",
       "version_major": 2,
       "version_minor": 0
      },
      "text/plain": [
       "Downloading data:   0%|          | 0.00/466M [00:00<?, ?B/s]"
      ]
     },
     "metadata": {},
     "output_type": "display_data"
    },
    {
     "data": {
      "application/vnd.jupyter.widget-view+json": {
       "model_id": "af901fc801ec4252920ba9717bef14ca",
       "version_major": 2,
       "version_minor": 0
      },
      "text/plain": [
       "Downloading data:   0%|          | 0.00/467M [00:00<?, ?B/s]"
      ]
     },
     "metadata": {},
     "output_type": "display_data"
    },
    {
     "data": {
      "application/vnd.jupyter.widget-view+json": {
       "model_id": "c51a5b63d80a4a9db9b790b23fbbf0b2",
       "version_major": 2,
       "version_minor": 0
      },
      "text/plain": [
       "Downloading data:   0%|          | 0.00/465M [00:00<?, ?B/s]"
      ]
     },
     "metadata": {},
     "output_type": "display_data"
    },
    {
     "data": {
      "application/vnd.jupyter.widget-view+json": {
       "model_id": "b359744357ea463fb9d8e48c1463334f",
       "version_major": 2,
       "version_minor": 0
      },
      "text/plain": [
       "Extracting data files:   0%|          | 0/1 [00:00<?, ?it/s]"
      ]
     },
     "metadata": {},
     "output_type": "display_data"
    },
    {
     "data": {
      "application/vnd.jupyter.widget-view+json": {
       "model_id": "517e79a063be4097ade452db2db5faf8",
       "version_major": 2,
       "version_minor": 0
      },
      "text/plain": [
       "Generating train split:   0%|          | 0/11054 [00:00<?, ? examples/s]"
      ]
     },
     "metadata": {},
     "output_type": "display_data"
    },
    {
     "name": "stdout",
     "output_type": "stream",
     "text": [
      "Dataset parquet downloaded and prepared to /Users/derekyu/.cache/huggingface/datasets/stochastic___parquet/stochastic--random_streetview_images_pano_v0.0.2-65d25597b51c2d04/0.0.0/2a3b91fbd88a2c90d1dbbb32b460cf621d31bd5b05b934492fdef7d8d6f236ec. Subsequent calls will reuse this data.\n"
     ]
    },
    {
     "data": {
      "application/vnd.jupyter.widget-view+json": {
       "model_id": "d1fdb26c1d4941d481af590f2bcf1636",
       "version_major": 2,
       "version_minor": 0
      },
      "text/plain": [
       "  0%|          | 0/1 [00:00<?, ?it/s]"
      ]
     },
     "metadata": {},
     "output_type": "display_data"
    }
   ],
   "source": [
    "from datasets import load_dataset\n",
    "\n",
    "dataset = load_dataset(\"stochastic/random_streetview_images_pano_v0.0.2\")"
   ]
  },
  {
   "cell_type": "code",
   "execution_count": 12,
   "metadata": {},
   "outputs": [
    {
     "data": {
      "text/plain": [
       "DatasetDict({\n",
       "    train: Dataset({\n",
       "        features: ['image', 'country_iso_alpha2', 'latitude', 'longitude', 'address'],\n",
       "        num_rows: 11054\n",
       "    })\n",
       "})"
      ]
     },
     "execution_count": 12,
     "metadata": {},
     "output_type": "execute_result"
    }
   ],
   "source": [
    "dataset\n",
    "# len(dataset['train'])\n",
    "# dataset['train'][2]['image']\n",
    "# filtered_data = dataset.filter(lambda example: \"x\" in example[\"text\"])\n"
   ]
  },
  {
   "cell_type": "code",
   "execution_count": 15,
   "metadata": {},
   "outputs": [],
   "source": [
    "country_codes = [\"ZA\",\"KR\",\"AR\",\"BW\",\"GR\",\"SK\",\"HK\",\"NL\",\"PE\",\"AU\",\"KH\",\"LT\",\"NZ\",\"RO\",\"MY\",\"SG\",\"AE\",\"FR\",\"ES\",\"IT\",\"IE\",\"LV\",\"IL\",\"JP\",\"CH\",\"AD\",\"CA\",\"RU\",\"NO\",\"SE\",\"PL\",\"TW\",\"CO\",\"BD\",\"HU\",\"CL\",\"IS\",\"BG\",\"GB\",\"US\",\"SI\",\"BT\",\"FI\",\"BE\",\"EE\",\"SZ\",\"UA\",\"CZ\",\"BR\",\"DK\",\"ID\",\"MX\",\"DE\",\"HR\",\"PT\",\"TH\"]\n",
    "country_dict = {}\n",
    "for i in range(len(country_codes)):\n",
    "    country_dict[country_codes[i]] = i\n",
    "    \n",
    "def country_to_label(country):\n",
    "    label = [0]*len(country_codes)\n",
    "    label[country_dict[country]] = 1\n",
    "    return label"
   ]
  },
  {
   "cell_type": "code",
   "execution_count": 64,
   "metadata": {},
   "outputs": [
    {
     "data": {
      "text/plain": [
       "torch.Size([3, 561, 3030])"
      ]
     },
     "execution_count": 64,
     "metadata": {},
     "output_type": "execute_result"
    }
   ],
   "source": [
    "import torchvision\n",
    "from torchvision.transforms import v2\n",
    "import torchvision.transforms as transforms\n",
    "transform = v2.Compose([\n",
    "    v2.CenterCrop((561,1010)),\n",
    "    v2.Resize((224,224)),\n",
    "    transforms.ToTensor()\n",
    "])\n",
    "dataset['train'][0]['image']\n",
    "augmented_data = dataset.with_format(\"torch\")\n",
    "x = transform(dataset['train'][0]['image'])\n",
    "augmented_data['train'][0]['image'].shape\n",
    "x\n",
    "# dataset['train'][0]['image'].shape\n",
    "# augmented_data['train'][0]['image'].shape\n",
    "# type(x)\n",
    "z = transforms.ToTensor()\n",
    "Z = z(dataset['train'][0]['image'])\n",
    "Z.shape"
   ]
  }
 ],
 "metadata": {
  "kernelspec": {
   "display_name": "Python 3",
   "language": "python",
   "name": "python3"
  },
  "language_info": {
   "codemirror_mode": {
    "name": "ipython",
    "version": 3
   },
   "file_extension": ".py",
   "mimetype": "text/x-python",
   "name": "python",
   "nbconvert_exporter": "python",
   "pygments_lexer": "ipython3",
   "version": "3.10.4"
  }
 },
 "nbformat": 4,
 "nbformat_minor": 2
}
