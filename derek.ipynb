{
 "cells": [
  {
   "cell_type": "code",
   "execution_count": 31,
   "metadata": {},
   "outputs": [],
   "source": [
    "import requests\n",
    "from PIL import Image\n",
    "import io\n",
    "import tensorflow as tf\n",
    "import torch\n",
    "# google streetview api\n",
    "# https://developers.google.com/maps/documentation/streetview/overview\n",
    "api_key = 'redacted' # hide this before pushing or google will prob generate a new one"
   ]
  },
  {
   "cell_type": "code",
   "execution_count": 40,
   "metadata": {},
   "outputs": [],
   "source": [
    "def get_image(coords):\n",
    "    base_url = \"https://maps.googleapis.com/maps/api/streetview\"\n",
    "    # location can either be Latitude and longitude of the location or text string of address\n",
    "    params = {\n",
    "        \"size\": \"600x300\",  # Size of the image in pixels (width x height)\n",
    "        \"location\": coords,\n",
    "        \"key\": api_key\n",
    "    }\n",
    "    response = requests.get(base_url, params=params)\n",
    "\n",
    "    if response.status_code == 200:\n",
    "        # Save the image to a file\n",
    "        \n",
    "        # with open(\"streetview_image.jpg\", \"wb\") as f:\n",
    "        #     f.write(response.content)\n",
    "        print(\"Image saved successfully!\")\n",
    "    else:\n",
    "        print(\"Error:\", response.status_code)\n",
    "\n",
    "    # see response \n",
    "    # for x in response.headers:\n",
    "    #     print(x, \": \", response.headers[x])\n",
    "\n",
    "    # Create a PIL image from the binary data\n",
    "    return Image.open(io.BytesIO(response.content))"
   ]
  },
  {
   "cell_type": "code",
   "execution_count": 41,
   "metadata": {},
   "outputs": [
    {
     "name": "stdout",
     "output_type": "stream",
     "text": [
      "Image saved successfully!\n"
     ]
    }
   ],
   "source": [
    "image = get_image(\"47.5763831,-122.4211769\")\n",
    "image.show()\n",
    "\n",
    "image_tensor = tf.image.convert_image_dtype(image, tf.float32)\n",
    "image_tensor.shape\n",
    "image_reshape = tf.transpose(image_tensor, perm=[2, 0, 1])\n",
    "# reds = image[:,:,0]\n",
    "# greens = image[:,:,1]\n",
    "# blues = image[:,:,1]\n",
    "# image_data_train = torch.stack([reds,greens,blues]).permute(1,2,3)\n"
   ]
  },
  {
   "cell_type": "code",
   "execution_count": 44,
   "metadata": {},
   "outputs": [
    {
     "data": {
      "text/plain": [
       "TensorShape([3, 300, 600])"
      ]
     },
     "execution_count": 44,
     "metadata": {},
     "output_type": "execute_result"
    }
   ],
   "source": [
    "print(image_tensor.shape)\n",
    "print(image_reshape.shape)"
   ]
  }
 ],
 "metadata": {
  "kernelspec": {
   "display_name": "Python 3",
   "language": "python",
   "name": "python3"
  },
  "language_info": {
   "codemirror_mode": {
    "name": "ipython",
    "version": 3
   },
   "file_extension": ".py",
   "mimetype": "text/x-python",
   "name": "python",
   "nbconvert_exporter": "python",
   "pygments_lexer": "ipython3",
   "version": "3.10.4"
  }
 },
 "nbformat": 4,
 "nbformat_minor": 2
}
